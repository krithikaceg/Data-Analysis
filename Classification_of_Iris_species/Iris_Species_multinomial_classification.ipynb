{
  "nbformat": 4,
  "nbformat_minor": 0,
  "metadata": {
    "colab": {
      "name": "Iris Species multinomial classification.ipynb",
      "version": "0.3.2",
      "provenance": []
    },
    "kernelspec": {
      "name": "python3",
      "display_name": "Python 3"
    }
  },
  "cells": [
    {
      "cell_type": "markdown",
      "metadata": {
        "id": "Qq5Uu2i71HOT",
        "colab_type": "text"
      },
      "source": [
        "# Iris Species Classification"
      ]
    },
    {
      "cell_type": "markdown",
      "metadata": {
        "id": "lKKqc6hm1gz5",
        "colab_type": "text"
      },
      "source": [
        "**Business Context**"
      ]
    },
    {
      "cell_type": "markdown",
      "metadata": {
        "id": "RnPqYDBo1JXs",
        "colab_type": "text"
      },
      "source": [
        "Iris is a genus of showy flowering plants which included upto 300 species. Each species of Iris has it's own value. Some of the species are used in medicine, water purification, perfume manufacturing, and so on. The purpose of this classification model is classify different species of Iris, so theat they can be processed and used for different purposes.\n",
        "\n",
        "The Iris dataset was used in R.A. Fisher's classic 1936 paper, The Use of Multiple Measurements in Taxonomic Problems, and can also be found on the UCI Machine Learning Repository.\n",
        "\n",
        "It includes three iris species with 50 samples each as well as some properties about each flower. One flower species is linearly separable from the other two, but the other two are not linearly separable from each other.\n",
        "\n",
        "The columns in this dataset are:\n",
        "\n",
        "* Id\n",
        "* SepalLengthCm\n",
        "* SepalWidthCm\n",
        "* PetalLengthCm\n",
        "* PetalWidthCm\n",
        "* Species"
      ]
    },
    {
      "cell_type": "markdown",
      "metadata": {
        "id": "QldFs7fj1k80",
        "colab_type": "text"
      },
      "source": [
        "### **Importing Libraries**"
      ]
    },
    {
      "cell_type": "code",
      "metadata": {
        "id": "Kx_7nHkcGtb9",
        "colab_type": "code",
        "colab": {}
      },
      "source": [
        "import pandas as pd\n",
        "import numpy as np\n",
        "import matplotlib.pyplot as plt\n",
        "import matplotlib.gridspec as gridspec\n",
        "import itertools\n",
        "from sklearn.svm import SVC\n",
        "from sklearn.ensemble import RandomForestClassifier\n",
        "from sklearn.neighbors import KNeighborsClassifier\n",
        "from sklearn.preprocessing import StandardScaler\n",
        "from sklearn.linear_model import LogisticRegression \n",
        "from sklearn.ensemble import GradientBoostingClassifier \n",
        "from sklearn.discriminant_analysis import LinearDiscriminantAnalysis\n",
        "from sklearn import tree\n",
        "\n",
        "from sklearn.metrics import classification_report\n",
        "from sklearn.metrics import roc_auc_score\n",
        "from sklearn.metrics import roc_curve\n",
        "from sklearn import metrics\n",
        "from sklearn.metrics import confusion_matrix\n",
        "from sklearn.model_selection import GridSearchCV, train_test_split\n",
        "import seaborn as sns\n",
        "%matplotlib inline"
      ],
      "execution_count": 0,
      "outputs": []
    },
    {
      "cell_type": "markdown",
      "metadata": {
        "id": "oWWd-6pX1pjO",
        "colab_type": "text"
      },
      "source": [
        "## Data Ingest"
      ]
    },
    {
      "cell_type": "code",
      "metadata": {
        "id": "J4BAUVrCIF0y",
        "colab_type": "code",
        "outputId": "bea1a898-9296-457c-c241-a6bbd8381fee",
        "colab": {
          "base_uri": "https://localhost:8080/",
          "height": 359
        }
      },
      "source": [
        "url = 'https://raw.github.com/krithikaceg/Statistical-Analysis/master/Classification_of_Iris_species/Iris.csv'\n",
        "iris = pd.read_csv(url)\n",
        "#print first 10 rows\n",
        "iris.sample(10)"
      ],
      "execution_count": 0,
      "outputs": [
        {
          "output_type": "execute_result",
          "data": {
            "text/html": [
              "<div>\n",
              "<style scoped>\n",
              "    .dataframe tbody tr th:only-of-type {\n",
              "        vertical-align: middle;\n",
              "    }\n",
              "\n",
              "    .dataframe tbody tr th {\n",
              "        vertical-align: top;\n",
              "    }\n",
              "\n",
              "    .dataframe thead th {\n",
              "        text-align: right;\n",
              "    }\n",
              "</style>\n",
              "<table border=\"1\" class=\"dataframe\">\n",
              "  <thead>\n",
              "    <tr style=\"text-align: right;\">\n",
              "      <th></th>\n",
              "      <th>Id</th>\n",
              "      <th>SepalLengthCm</th>\n",
              "      <th>SepalWidthCm</th>\n",
              "      <th>PetalLengthCm</th>\n",
              "      <th>PetalWidthCm</th>\n",
              "      <th>Species</th>\n",
              "    </tr>\n",
              "  </thead>\n",
              "  <tbody>\n",
              "    <tr>\n",
              "      <th>20</th>\n",
              "      <td>21</td>\n",
              "      <td>5.4</td>\n",
              "      <td>3.4</td>\n",
              "      <td>1.7</td>\n",
              "      <td>0.2</td>\n",
              "      <td>Iris-setosa</td>\n",
              "    </tr>\n",
              "    <tr>\n",
              "      <th>5</th>\n",
              "      <td>6</td>\n",
              "      <td>5.4</td>\n",
              "      <td>3.9</td>\n",
              "      <td>1.7</td>\n",
              "      <td>0.4</td>\n",
              "      <td>Iris-setosa</td>\n",
              "    </tr>\n",
              "    <tr>\n",
              "      <th>106</th>\n",
              "      <td>107</td>\n",
              "      <td>4.9</td>\n",
              "      <td>2.5</td>\n",
              "      <td>4.5</td>\n",
              "      <td>1.7</td>\n",
              "      <td>Iris-virginica</td>\n",
              "    </tr>\n",
              "    <tr>\n",
              "      <th>72</th>\n",
              "      <td>73</td>\n",
              "      <td>6.3</td>\n",
              "      <td>2.5</td>\n",
              "      <td>4.9</td>\n",
              "      <td>1.5</td>\n",
              "      <td>Iris-versicolor</td>\n",
              "    </tr>\n",
              "    <tr>\n",
              "      <th>79</th>\n",
              "      <td>80</td>\n",
              "      <td>5.7</td>\n",
              "      <td>2.6</td>\n",
              "      <td>3.5</td>\n",
              "      <td>1.0</td>\n",
              "      <td>Iris-versicolor</td>\n",
              "    </tr>\n",
              "    <tr>\n",
              "      <th>96</th>\n",
              "      <td>97</td>\n",
              "      <td>5.7</td>\n",
              "      <td>2.9</td>\n",
              "      <td>4.2</td>\n",
              "      <td>1.3</td>\n",
              "      <td>Iris-versicolor</td>\n",
              "    </tr>\n",
              "    <tr>\n",
              "      <th>131</th>\n",
              "      <td>132</td>\n",
              "      <td>7.9</td>\n",
              "      <td>3.8</td>\n",
              "      <td>6.4</td>\n",
              "      <td>2.0</td>\n",
              "      <td>Iris-virginica</td>\n",
              "    </tr>\n",
              "    <tr>\n",
              "      <th>149</th>\n",
              "      <td>150</td>\n",
              "      <td>5.9</td>\n",
              "      <td>3.0</td>\n",
              "      <td>5.1</td>\n",
              "      <td>1.8</td>\n",
              "      <td>Iris-virginica</td>\n",
              "    </tr>\n",
              "    <tr>\n",
              "      <th>113</th>\n",
              "      <td>114</td>\n",
              "      <td>5.7</td>\n",
              "      <td>2.5</td>\n",
              "      <td>5.0</td>\n",
              "      <td>2.0</td>\n",
              "      <td>Iris-virginica</td>\n",
              "    </tr>\n",
              "    <tr>\n",
              "      <th>40</th>\n",
              "      <td>41</td>\n",
              "      <td>5.0</td>\n",
              "      <td>3.5</td>\n",
              "      <td>1.3</td>\n",
              "      <td>0.3</td>\n",
              "      <td>Iris-setosa</td>\n",
              "    </tr>\n",
              "  </tbody>\n",
              "</table>\n",
              "</div>"
            ],
            "text/plain": [
              "      Id  SepalLengthCm  ...  PetalWidthCm          Species\n",
              "20    21            5.4  ...           0.2      Iris-setosa\n",
              "5      6            5.4  ...           0.4      Iris-setosa\n",
              "106  107            4.9  ...           1.7   Iris-virginica\n",
              "72    73            6.3  ...           1.5  Iris-versicolor\n",
              "79    80            5.7  ...           1.0  Iris-versicolor\n",
              "96    97            5.7  ...           1.3  Iris-versicolor\n",
              "131  132            7.9  ...           2.0   Iris-virginica\n",
              "149  150            5.9  ...           1.8   Iris-virginica\n",
              "113  114            5.7  ...           2.0   Iris-virginica\n",
              "40    41            5.0  ...           0.3      Iris-setosa\n",
              "\n",
              "[10 rows x 6 columns]"
            ]
          },
          "metadata": {
            "tags": []
          },
          "execution_count": 20
        }
      ]
    },
    {
      "cell_type": "markdown",
      "metadata": {
        "id": "LqCOFIKe1svw",
        "colab_type": "text"
      },
      "source": [
        "### Data Columns"
      ]
    },
    {
      "cell_type": "code",
      "metadata": {
        "id": "JKaaVS0SIhm4",
        "colab_type": "code",
        "outputId": "5baaca72-44bb-4774-e92a-cbee081ce044",
        "colab": {
          "base_uri": "https://localhost:8080/",
          "height": 68
        }
      },
      "source": [
        "iris.columns"
      ],
      "execution_count": 0,
      "outputs": [
        {
          "output_type": "execute_result",
          "data": {
            "text/plain": [
              "Index(['Id', 'SepalLengthCm', 'SepalWidthCm', 'PetalLengthCm', 'PetalWidthCm',\n",
              "       'Species'],\n",
              "      dtype='object')"
            ]
          },
          "metadata": {
            "tags": []
          },
          "execution_count": 7
        }
      ]
    },
    {
      "cell_type": "markdown",
      "metadata": {
        "id": "yshJN1p31vXt",
        "colab_type": "text"
      },
      "source": [
        "### Data Info"
      ]
    },
    {
      "cell_type": "code",
      "metadata": {
        "id": "vfVsN7ORIWgQ",
        "colab_type": "code",
        "outputId": "b24fe41c-0f15-4681-9b8e-2192e02f324c",
        "colab": {
          "base_uri": "https://localhost:8080/",
          "height": 204
        }
      },
      "source": [
        "iris.info()"
      ],
      "execution_count": 0,
      "outputs": [
        {
          "output_type": "stream",
          "text": [
            "<class 'pandas.core.frame.DataFrame'>\n",
            "RangeIndex: 150 entries, 0 to 149\n",
            "Data columns (total 6 columns):\n",
            "Id               150 non-null int64\n",
            "SepalLengthCm    150 non-null float64\n",
            "SepalWidthCm     150 non-null float64\n",
            "PetalLengthCm    150 non-null float64\n",
            "PetalWidthCm     150 non-null float64\n",
            "Species          150 non-null object\n",
            "dtypes: float64(4), int64(1), object(1)\n",
            "memory usage: 7.1+ KB\n"
          ],
          "name": "stdout"
        }
      ]
    },
    {
      "cell_type": "code",
      "metadata": {
        "id": "Tc0MQUgrG7Rk",
        "colab_type": "code",
        "outputId": "7881bda5-4307-4149-8d5e-cede2ae7cf12",
        "colab": {
          "base_uri": "https://localhost:8080/",
          "height": 204
        }
      },
      "source": [
        "iris.drop('Id',axis=1,inplace=True)\n",
        "iris.head()"
      ],
      "execution_count": 0,
      "outputs": [
        {
          "output_type": "execute_result",
          "data": {
            "text/html": [
              "<div>\n",
              "<style scoped>\n",
              "    .dataframe tbody tr th:only-of-type {\n",
              "        vertical-align: middle;\n",
              "    }\n",
              "\n",
              "    .dataframe tbody tr th {\n",
              "        vertical-align: top;\n",
              "    }\n",
              "\n",
              "    .dataframe thead th {\n",
              "        text-align: right;\n",
              "    }\n",
              "</style>\n",
              "<table border=\"1\" class=\"dataframe\">\n",
              "  <thead>\n",
              "    <tr style=\"text-align: right;\">\n",
              "      <th></th>\n",
              "      <th>SepalLengthCm</th>\n",
              "      <th>SepalWidthCm</th>\n",
              "      <th>PetalLengthCm</th>\n",
              "      <th>PetalWidthCm</th>\n",
              "      <th>Species</th>\n",
              "    </tr>\n",
              "  </thead>\n",
              "  <tbody>\n",
              "    <tr>\n",
              "      <th>0</th>\n",
              "      <td>5.1</td>\n",
              "      <td>3.5</td>\n",
              "      <td>1.4</td>\n",
              "      <td>0.2</td>\n",
              "      <td>Iris-setosa</td>\n",
              "    </tr>\n",
              "    <tr>\n",
              "      <th>1</th>\n",
              "      <td>4.9</td>\n",
              "      <td>3.0</td>\n",
              "      <td>1.4</td>\n",
              "      <td>0.2</td>\n",
              "      <td>Iris-setosa</td>\n",
              "    </tr>\n",
              "    <tr>\n",
              "      <th>2</th>\n",
              "      <td>4.7</td>\n",
              "      <td>3.2</td>\n",
              "      <td>1.3</td>\n",
              "      <td>0.2</td>\n",
              "      <td>Iris-setosa</td>\n",
              "    </tr>\n",
              "    <tr>\n",
              "      <th>3</th>\n",
              "      <td>4.6</td>\n",
              "      <td>3.1</td>\n",
              "      <td>1.5</td>\n",
              "      <td>0.2</td>\n",
              "      <td>Iris-setosa</td>\n",
              "    </tr>\n",
              "    <tr>\n",
              "      <th>4</th>\n",
              "      <td>5.0</td>\n",
              "      <td>3.6</td>\n",
              "      <td>1.4</td>\n",
              "      <td>0.2</td>\n",
              "      <td>Iris-setosa</td>\n",
              "    </tr>\n",
              "  </tbody>\n",
              "</table>\n",
              "</div>"
            ],
            "text/plain": [
              "   SepalLengthCm  SepalWidthCm  PetalLengthCm  PetalWidthCm      Species\n",
              "0            5.1           3.5            1.4           0.2  Iris-setosa\n",
              "1            4.9           3.0            1.4           0.2  Iris-setosa\n",
              "2            4.7           3.2            1.3           0.2  Iris-setosa\n",
              "3            4.6           3.1            1.5           0.2  Iris-setosa\n",
              "4            5.0           3.6            1.4           0.2  Iris-setosa"
            ]
          },
          "metadata": {
            "tags": []
          },
          "execution_count": 21
        }
      ]
    },
    {
      "cell_type": "markdown",
      "metadata": {
        "id": "K2aoD2E81yX7",
        "colab_type": "text"
      },
      "source": [
        "## EDA"
      ]
    },
    {
      "cell_type": "markdown",
      "metadata": {
        "id": "_WtjExvp112k",
        "colab_type": "text"
      },
      "source": [
        "### Distribution range of each attribute"
      ]
    },
    {
      "cell_type": "code",
      "metadata": {
        "id": "VbCVsIPkLOWz",
        "colab_type": "code",
        "outputId": "558326f7-2962-484f-a4f3-7ebb71520ca4",
        "colab": {
          "base_uri": "https://localhost:8080/",
          "height": 390
        }
      },
      "source": [
        "iris.hist(edgecolor='black', linewidth=1.2)\n",
        "fig=plt.gcf()\n",
        "fig.set_size_inches(12,6)\n",
        "plt.show()"
      ],
      "execution_count": 0,
      "outputs": [
        {
          "output_type": "display_data",
          "data": {
            "image/png": "[encoded data removed]",
            "text/plain": [
              "<Figure size 864x432 with 4 Axes>"
            ]
          },
          "metadata": {
            "tags": []
          }
        }
      ]
    },
    {
      "cell_type": "markdown",
      "metadata": {
        "id": "Kz83L_US2Bm8",
        "colab_type": "text"
      },
      "source": [
        "### Scatter Plot for Sepal"
      ]
    },
    {
      "cell_type": "code",
      "metadata": {
        "id": "l_WCdRPGIwxJ",
        "colab_type": "code",
        "outputId": "a366611d-b71c-4688-abb0-f6007dbfd923",
        "colab": {
          "base_uri": "https://localhost:8080/",
          "height": 404
        }
      },
      "source": [
        "fig = iris[iris.Species=='Iris-setosa'].plot(kind='scatter',x='SepalLengthCm',y='SepalWidthCm',color='orange', label='Setosa')\n",
        "iris[iris.Species=='Iris-versicolor'].plot(kind='scatter',x='SepalLengthCm',y='SepalWidthCm',color='blue', label='versicolor',ax=fig)\n",
        "iris[iris.Species=='Iris-virginica'].plot(kind='scatter',x='SepalLengthCm',y='SepalWidthCm',color='green', label='virginica', ax=fig)\n",
        "fig.set_xlabel(\"Sepal Length\")\n",
        "fig.set_ylabel(\"Sepal Width\")\n",
        "fig.set_title(\"Sepal Length VS Width\")\n",
        "fig=plt.gcf()\n",
        "fig.set_size_inches(10,6)\n",
        "plt.show()"
      ],
      "execution_count": 0,
      "outputs": [
        {
          "output_type": "display_data",
          "data": {
            "image/png": "[encoded data removed]",
            "text/plain": [
              "<Figure size 720x432 with 1 Axes>"
            ]
          },
          "metadata": {
            "tags": []
          }
        }
      ]
    },
    {
      "cell_type": "markdown",
      "metadata": {
        "id": "lRrgLT9Q2K3P",
        "colab_type": "text"
      },
      "source": [
        "### Scatter Plot for Petal"
      ]
    },
    {
      "cell_type": "code",
      "metadata": {
        "id": "Uo5j0aEwI3AA",
        "colab_type": "code",
        "outputId": "cc1d1104-542b-4a6a-9b1e-614b5d8a0e86",
        "colab": {
          "base_uri": "https://localhost:8080/",
          "height": 404
        }
      },
      "source": [
        "fig = iris[iris.Species=='Iris-setosa'].plot.scatter(x='PetalLengthCm',y='PetalWidthCm',color='orange', label='Setosa')\n",
        "iris[iris.Species=='Iris-versicolor'].plot.scatter(x='PetalLengthCm',y='PetalWidthCm',color='blue', label='versicolor',ax=fig)\n",
        "iris[iris.Species=='Iris-virginica'].plot.scatter(x='PetalLengthCm',y='PetalWidthCm',color='green', label='virginica', ax=fig)\n",
        "fig.set_xlabel(\"Petal Length\")\n",
        "fig.set_ylabel(\"Petal Width\")\n",
        "fig.set_title(\" Petal Length VS Width\")\n",
        "fig=plt.gcf()\n",
        "fig.set_size_inches(10,6)\n",
        "plt.show()"
      ],
      "execution_count": 0,
      "outputs": [
        {
          "output_type": "display_data",
          "data": {
            "image/png": "[encoded data removed]",
            "text/plain": [
              "<Figure size 720x432 with 1 Axes>"
            ]
          },
          "metadata": {
            "tags": []
          }
        }
      ]
    },
    {
      "cell_type": "markdown",
      "metadata": {
        "id": "O-yXcn1i2NHE",
        "colab_type": "text"
      },
      "source": [
        "### Correlation Heatmap"
      ]
    },
    {
      "cell_type": "code",
      "metadata": {
        "id": "LVZDVYXkJzh_",
        "colab_type": "code",
        "outputId": "f65185cb-b870-4482-e241-25482434efc2",
        "colab": {
          "base_uri": "https://localhost:8080/",
          "height": 269
        }
      },
      "source": [
        "plt.figure(figsize=(7,4)) \n",
        "sns.heatmap(iris.corr(),annot=True,cmap='cubehelix_r') #draws  heatmap with input as the correlation matrix calculted by(iris.corr())\n",
        "plt.show()"
      ],
      "execution_count": 0,
      "outputs": [
        {
          "output_type": "display_data",
          "data": {
            "image/png": "[encoded data removed]",
            "text/plain": [
              "<Figure size 504x288 with 2 Axes>"
            ]
          },
          "metadata": {
            "tags": []
          }
        }
      ]
    },
    {
      "cell_type": "markdown",
      "metadata": {
        "id": "-yoXP_97RonZ",
        "colab_type": "text"
      },
      "source": [
        "As we can see in the correlation heat map, petal length and petal width are highly correlated. While designing our model, we shoudl consider this attribute to avoid auto-correlation."
      ]
    },
    {
      "cell_type": "markdown",
      "metadata": {
        "id": "BjkpIA-p2Vfd",
        "colab_type": "text"
      },
      "source": [
        "## Modeling"
      ]
    },
    {
      "cell_type": "markdown",
      "metadata": {
        "id": "eGC0db-E2ZwI",
        "colab_type": "text"
      },
      "source": [
        "### Splitting train test dataset"
      ]
    },
    {
      "cell_type": "code",
      "metadata": {
        "id": "ghJDhnhFL7qG",
        "colab_type": "code",
        "outputId": "e1ca2827-ed02-42a1-f3e5-5aedea8a27b0",
        "colab": {
          "base_uri": "https://localhost:8080/",
          "height": 34
        }
      },
      "source": [
        "X = df.iloc[:, 1:5].values\n",
        "y = df.iloc[:, 5].values\n",
        "\n",
        "from sklearn.model_selection import train_test_split\n",
        "X_train, X_test, y_train, y_test = train_test_split(\n",
        "X, y, test_size=0.3, random_state=0)\n",
        "\n",
        "X_train.shape, y_train.shape, X_test.shape , y_test.shape"
      ],
      "execution_count": 0,
      "outputs": [
        {
          "output_type": "execute_result",
          "data": {
            "text/plain": [
              "((105, 4), (105,), (45, 4), (45,))"
            ]
          },
          "metadata": {
            "tags": []
          },
          "execution_count": 62
        }
      ]
    },
    {
      "cell_type": "code",
      "metadata": {
        "id": "nK3gxIFJMxYn",
        "colab_type": "code",
        "outputId": "0b3aeccc-7c45-410d-ecef-1519757937f6",
        "colab": {
          "base_uri": "https://localhost:8080/",
          "height": 255
        }
      },
      "source": [
        "y_test"
      ],
      "execution_count": 0,
      "outputs": [
        {
          "output_type": "execute_result",
          "data": {
            "text/plain": [
              "array(['Iris-virginica', 'Iris-versicolor', 'Iris-setosa',\n",
              "       'Iris-virginica', 'Iris-setosa', 'Iris-virginica', 'Iris-setosa',\n",
              "       'Iris-versicolor', 'Iris-versicolor', 'Iris-versicolor',\n",
              "       'Iris-virginica', 'Iris-versicolor', 'Iris-versicolor',\n",
              "       'Iris-versicolor', 'Iris-versicolor', 'Iris-setosa',\n",
              "       'Iris-versicolor', 'Iris-versicolor', 'Iris-setosa', 'Iris-setosa',\n",
              "       'Iris-virginica', 'Iris-versicolor', 'Iris-setosa', 'Iris-setosa',\n",
              "       'Iris-virginica', 'Iris-setosa', 'Iris-setosa', 'Iris-versicolor',\n",
              "       'Iris-versicolor', 'Iris-setosa', 'Iris-virginica',\n",
              "       'Iris-versicolor', 'Iris-setosa', 'Iris-virginica',\n",
              "       'Iris-virginica', 'Iris-versicolor', 'Iris-setosa',\n",
              "       'Iris-versicolor', 'Iris-versicolor', 'Iris-versicolor',\n",
              "       'Iris-virginica', 'Iris-setosa', 'Iris-virginica', 'Iris-setosa',\n",
              "       'Iris-setosa'], dtype=object)"
            ]
          },
          "metadata": {
            "tags": []
          },
          "execution_count": 63
        }
      ]
    },
    {
      "cell_type": "markdown",
      "metadata": {
        "id": "FB850y9cI8x6",
        "colab_type": "text"
      },
      "source": [
        "### SVC"
      ]
    },
    {
      "cell_type": "code",
      "metadata": {
        "id": "a7x2BaOQN9-5",
        "colab_type": "code",
        "outputId": "1da7a434-ec1b-4890-f557-08575489f5cf",
        "colab": {
          "base_uri": "https://localhost:8080/",
          "height": 323
        }
      },
      "source": [
        "clf = SVC()\n",
        "clf.fit(X_train, y_train)\n",
        "y_pred = clf.predict(X_test)\n",
        "print(\"Score without Hyper parameter tuning %s\" %metrics.accuracy_score(y_pred, y_test))\n",
        "\n",
        "import warnings\n",
        "warnings.filterwarnings('ignore')\n",
        "# Set the parameters by cross-validation\n",
        "tuned_parameters = [{'kernel': ['rbf'], 'gamma': [1e-3, 1e-4],\n",
        "                     'C': [1, 10, 100, 1000]},\n",
        "                    {'kernel': ['linear'], 'C': [1, 10, 100, 1000]}]\n",
        "\n",
        "score ='recall'\n",
        "\n",
        "print(\"# Tuning hyper-parameters for %s\" % score)\n",
        "print()\n",
        "\n",
        "try:\n",
        "  clf = GridSearchCV(SVC(), tuned_parameters, cv=5,\n",
        "                     scoring='%s_macro' % score)\n",
        "  clf.fit(X_train, y_train)\n",
        "  \n",
        "  print(\"Best parameters set found on development set:\")\n",
        "  print()\n",
        "  print(\"Score: %s\" %metrics.accuracy_score(y_pred, y_test))\n",
        "  print(\"Parameters are %s\" %clf.best_params_)\n",
        "  \n",
        "  y_true, y_pred = y_test, clf.predict(X_test)\n",
        "  print(classification_report(y_true, y_pred))\n",
        "  print()\n",
        "except:\n",
        "  None\n",
        "\n",
        "\n",
        "\n"
      ],
      "execution_count": 0,
      "outputs": [
        {
          "output_type": "stream",
          "text": [
            "Score without Hyper parameter tuning 0.9777777777777777\n",
            "# Tuning hyper-parameters for recall\n",
            "\n",
            "Best parameters set found on development set:\n",
            "\n",
            "Score: 0.9777777777777777\n",
            "Parameters are {'C': 1000, 'gamma': 0.001, 'kernel': 'rbf'}\n",
            "                 precision    recall  f1-score   support\n",
            "\n",
            "    Iris-setosa       1.00      1.00      1.00        16\n",
            "Iris-versicolor       1.00      0.94      0.97        18\n",
            " Iris-virginica       0.92      1.00      0.96        11\n",
            "\n",
            "      micro avg       0.98      0.98      0.98        45\n",
            "      macro avg       0.97      0.98      0.98        45\n",
            "   weighted avg       0.98      0.98      0.98        45\n",
            "\n",
            "\n"
          ],
          "name": "stdout"
        }
      ]
    },
    {
      "cell_type": "markdown",
      "metadata": {
        "id": "1PAKTW63JAda",
        "colab_type": "text"
      },
      "source": [
        "### Logistic Regression"
      ]
    },
    {
      "cell_type": "code",
      "metadata": {
        "id": "Fq4ledlqNAy3",
        "colab_type": "code",
        "outputId": "09d5d17e-e414-4d31-fcb4-1d319a7e0413",
        "colab": {
          "base_uri": "https://localhost:8080/",
          "height": 340
        }
      },
      "source": [
        "model = LogisticRegression()\n",
        "model.fit(X_train,y_train)\n",
        "prediction=model.predict(X_test)\n",
        "print('The accuracy of the Logistic Regression is %s' %metrics.accuracy_score(prediction, y_test))\n",
        "\n",
        "\n",
        "\n",
        "import warnings\n",
        "warnings.filterwarnings('ignore')\n",
        "tuned_parameters = {#'dual': [True,False], \n",
        "                    #'max_iter':[100,110,120,130,140], \n",
        "                    'C': [0.01, 0.1, 1, 10, 100, 1000],\n",
        "                    #'penalty': ['l1', 'l2'],\n",
        "                    'solver': ['newton-cg', 'lbfgs', 'liblinear', 'sag', 'saga'],\n",
        "                    #'multi_class': ['ovr', 'multinomial', 'auto']                   \n",
        "                   }\n",
        "score = 'recall'\n",
        "print(\"# Tuning hyper-parameters for %s\" % score)\n",
        "print()\n",
        "try:\n",
        "  clf = GridSearchCV(LogisticRegression(), tuned_parameters, cv=5,\n",
        "                     scoring='%s_macro' % score)\n",
        "  clf.fit(X_train, y_train)\n",
        "  print(\"Best parameters set found on development set:\")\n",
        "  print()\n",
        "  print(clf.best_params_)\n",
        "  print()\n",
        "except:\n",
        "  None\n",
        "\n",
        "\n",
        "\n",
        "y_pred = clf.predict(X_test)\n",
        "print(classification_report(y_true, y_pred))\n",
        "print()\n",
        "print(metrics.accuracy_score(prediction, y_test))"
      ],
      "execution_count": 0,
      "outputs": [
        {
          "output_type": "stream",
          "text": [
            "The accuracy of the Logistic Regression is 0.8888888888888888\n",
            "# Tuning hyper-parameters for recall\n",
            "\n",
            "Best parameters set found on development set:\n",
            "\n",
            "{'C': 100, 'solver': 'liblinear'}\n",
            "\n",
            "                 precision    recall  f1-score   support\n",
            "\n",
            "    Iris-setosa       1.00      1.00      1.00        16\n",
            "Iris-versicolor       1.00      0.89      0.94        18\n",
            " Iris-virginica       0.85      1.00      0.92        11\n",
            "\n",
            "      micro avg       0.96      0.96      0.96        45\n",
            "      macro avg       0.95      0.96      0.95        45\n",
            "   weighted avg       0.96      0.96      0.96        45\n",
            "\n",
            "\n",
            "0.8888888888888888\n"
          ],
          "name": "stdout"
        }
      ]
    },
    {
      "cell_type": "markdown",
      "metadata": {
        "id": "Z2ZEMw6hJDtm",
        "colab_type": "text"
      },
      "source": [
        "### Random Forest Classifier"
      ]
    },
    {
      "cell_type": "code",
      "metadata": {
        "id": "wYiHr1_HZIGp",
        "colab_type": "code",
        "outputId": "922feee9-49af-49e8-8c69-89ae03fa3b54",
        "colab": {
          "base_uri": "https://localhost:8080/",
          "height": 340
        }
      },
      "source": [
        "model = RandomForestClassifier()\n",
        "model.fit(X_train,y_train)\n",
        "prediction=model.predict(X_test)\n",
        "print('The accuracy of the Random Forest Classifier is %s' %metrics.accuracy_score(prediction, y_test))\n",
        "\n",
        "\n",
        "\n",
        "import warnings\n",
        "warnings.filterwarnings('ignore')\n",
        "tuned_parameters = {'n_estimators': [10, 20, 50, 100],\n",
        "                    'criterion': ['gini', 'entropy'],\n",
        "                    'max_depth': [5, 10, 15, 20],\n",
        "                    'max_features': ['auto', 'sqrt', 'log2']\n",
        "                   }\n",
        "score = 'recall'\n",
        "print(\"Tuning hyper-parameters for %s\" % score)\n",
        "print()\n",
        "try:\n",
        "  clf = GridSearchCV(RandomForestClassifier(), tuned_parameters, cv=5,\n",
        "                     scoring='%s_macro' % score)\n",
        "  clf.fit(X_train, y_train)\n",
        "  print(\"Best parameters set found on development set:\")\n",
        "  print()\n",
        "  print(clf.best_params_)\n",
        "  print()\n",
        "  y_true, y_pred = y_test, clf.predict(X_test)\n",
        "  print(classification_report(y_true, y_pred))\n",
        "  print()\n",
        "  print(metrics.accuracy_score(prediction, y_test))\n",
        "  print(clf.summary())\n",
        "except:\n",
        "  None\n",
        "\n",
        "\n",
        "\n"
      ],
      "execution_count": 0,
      "outputs": [
        {
          "output_type": "stream",
          "text": [
            "The accuracy of the Random Forest Classifier is 0.9777777777777777\n",
            "Tuning hyper-parameters for recall\n",
            "\n",
            "Best parameters set found on development set:\n",
            "\n",
            "{'criterion': 'gini', 'max_depth': 20, 'max_features': 'auto', 'n_estimators': 10}\n",
            "\n",
            "                 precision    recall  f1-score   support\n",
            "\n",
            "    Iris-setosa       1.00      1.00      1.00        16\n",
            "Iris-versicolor       1.00      0.94      0.97        18\n",
            " Iris-virginica       0.92      1.00      0.96        11\n",
            "\n",
            "      micro avg       0.98      0.98      0.98        45\n",
            "      macro avg       0.97      0.98      0.98        45\n",
            "   weighted avg       0.98      0.98      0.98        45\n",
            "\n",
            "\n",
            "0.9777777777777777\n"
          ],
          "name": "stdout"
        }
      ]
    },
    {
      "cell_type": "markdown",
      "metadata": {
        "id": "wcPwdJgcJHr7",
        "colab_type": "text"
      },
      "source": [
        "## Performance measurement"
      ]
    },
    {
      "cell_type": "markdown",
      "metadata": {
        "id": "tDFlSOHxJLha",
        "colab_type": "text"
      },
      "source": [
        "### Confusion Matrix"
      ]
    },
    {
      "cell_type": "code",
      "metadata": {
        "id": "8_FXdWrwl88M",
        "colab_type": "code",
        "outputId": "60c057db-b693-44d1-d15d-9625b2c08891",
        "colab": {
          "base_uri": "https://localhost:8080/",
          "height": 437
        }
      },
      "source": [
        "cm = ConfusionMatrix(clf, classes=['Iris-setosa', 'Iris-versicolor', 'Iris-virginica'])\n",
        "\n",
        "# Fit fits the passed model. This is unnecessary if you pass the visualizer a pre-fitted model\n",
        "cm.fit(X_train, y_train)\n",
        "\n",
        "# To create the ConfusionMatrix, we need some test data. Score runs predict() on the data\n",
        "# and then creates the confusion_matrix from scikit-learn.\n",
        "cm.score(X_test, y_test)\n",
        "\n",
        "# How did we do?\n",
        "cm.poof()"
      ],
      "execution_count": 0,
      "outputs": [
        {
          "output_type": "display_data",
          "data": {
            "image/png": "[encoded data removed]",
            "text/plain": [
              "<Figure size 576x396 with 1 Axes>"
            ]
          },
          "metadata": {
            "tags": []
          }
        }
      ]
    },
    {
      "cell_type": "markdown",
      "metadata": {
        "id": "TwXmSHDxQymF",
        "colab_type": "text"
      },
      "source": [
        "Confusion matrix reveals that only 1 out of 45 is predicted wrongly. Ou model is good and the data that is given is able to clearly classify."
      ]
    },
    {
      "cell_type": "markdown",
      "metadata": {
        "id": "bSZkbdrlJOUB",
        "colab_type": "text"
      },
      "source": [
        "### Precision and Recall"
      ]
    },
    {
      "cell_type": "code",
      "metadata": {
        "id": "5GGTvOs3qAKA",
        "colab_type": "code",
        "outputId": "646aa6df-d577-4d29-ca4f-1875ddb52a43",
        "colab": {
          "base_uri": "https://localhost:8080/",
          "height": 187
        }
      },
      "source": [
        "y_true, y_pred = y_test, clf.predict(X_test)\n",
        "print(classification_report(y_true, y_pred))"
      ],
      "execution_count": 0,
      "outputs": [
        {
          "output_type": "stream",
          "text": [
            "                 precision    recall  f1-score   support\n",
            "\n",
            "    Iris-setosa       1.00      1.00      1.00        16\n",
            "Iris-versicolor       1.00      0.94      0.97        18\n",
            " Iris-virginica       0.92      1.00      0.96        11\n",
            "\n",
            "      micro avg       0.98      0.98      0.98        45\n",
            "      macro avg       0.97      0.98      0.98        45\n",
            "   weighted avg       0.98      0.98      0.98        45\n",
            "\n"
          ],
          "name": "stdout"
        }
      ]
    },
    {
      "cell_type": "markdown",
      "metadata": {
        "id": "yzHiuCDnLlT7",
        "colab_type": "text"
      },
      "source": [
        "There are three classifications here and they are equally distributed. We can increase the score of precision for one classification without affecting the score of other classifications only when the model predicts correctly.\n"
      ]
    },
    {
      "cell_type": "markdown",
      "metadata": {
        "id": "UXhpPhWiJbK6",
        "colab_type": "text"
      },
      "source": [
        "### ROC and AUC"
      ]
    },
    {
      "cell_type": "code",
      "metadata": {
        "id": "ffZlvcvKqNRu",
        "colab_type": "code",
        "outputId": "cee4e36f-2003-41f4-e0e0-fb3cf22af7e7",
        "colab": {
          "base_uri": "https://localhost:8080/",
          "height": 376
        }
      },
      "source": [
        "from yellowbrick.classifier import ROCAUC\n",
        "clf = LogisticRegression()\n",
        "classes=['Iris-setosa', 'Iris-versicolor', 'Iris-virginica']\n",
        "\n",
        "# Instantiate the visualizer with the classification model\n",
        "visualizer = ROCAUC(clf, classes=classes)\n",
        "\n",
        "visualizer.fit(X_train, y_train)  # Fit the training data to the visualizer\n",
        "visualizer.score(X_test, y_test)  # Evaluate the model on the test data\n",
        "g = visualizer.poof()  "
      ],
      "execution_count": 0,
      "outputs": [
        {
          "output_type": "display_data",
          "data": {
            "image/png": "[encoded data removed]",
            "text/plain": [
              "<Figure size 576x396 with 1 Axes>"
            ]
          },
          "metadata": {
            "tags": []
          }
        }
      ]
    },
    {
      "cell_type": "markdown",
      "metadata": {
        "id": "hlf2UOlbLBhN",
        "colab_type": "text"
      },
      "source": [
        "AUC score is nearly 1. This is definitely a good inidcator that the model is performing well. Also, as we can observe the curve, it is steep in the left indicating the lower number of false positives."
      ]
    },
    {
      "cell_type": "markdown",
      "metadata": {
        "id": "hhSiknxZrvsS",
        "colab_type": "text"
      },
      "source": [
        "## Recommendations"
      ]
    },
    {
      "cell_type": "markdown",
      "metadata": {
        "id": "VwQsoJPXJd8f",
        "colab_type": "text"
      },
      "source": [
        "Our model predicts with 97% accuracy which is definitely a good prediction. Below are few recommendations to our stakeholders:\n",
        "\n",
        "1. We are not provided any information on the color of the species. Color would be a significant attribute in deciding the species.\n",
        "\n",
        "2. There are several other varieties of Iris species such as Iris Adriatica, Iris Albiens and so on. But we are only given the data of three species. If we receive the data from different species after our model is trained, it would predict wrongly. \n",
        "\n",
        "3. As we can see from the above charts, petal length and petal width can distinguish the species better. \n",
        "We are given only 50 datasets for each species. If we are given even more, we can build a robust  model that can predict much better. "
      ]
    },
    {
      "cell_type": "markdown",
      "metadata": {
        "id": "HKXxuGhk1IBD",
        "colab_type": "text"
      },
      "source": [
        "## Machine Learning Canvas:"
      ]
    },
    {
      "cell_type": "markdown",
      "metadata": {
        "id": "MhmVnp_mK-OB",
        "colab_type": "text"
      },
      "source": [
        "![alt text](https://raw.github.com/krithikaceg/Statistical-Analysis/master/Classification_of_Iris_species/classification_Iris.png)"
      ]
    }
  ]
}